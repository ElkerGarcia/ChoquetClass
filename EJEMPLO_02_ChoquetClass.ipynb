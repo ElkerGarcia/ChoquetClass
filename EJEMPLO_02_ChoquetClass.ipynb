{
  "cells": [
    {
      "cell_type": "code",
      "execution_count": null,
      "metadata": {
        "id": "aSqTlqSuLEtz"
      },
      "outputs": [],
      "source": [
        "import zipfile\n",
        "with zipfile.ZipFile(\"ChoquetClass.zip\", \"r\") as zip_ref:\n",
        "    zip_ref.extractall(\"ChoquetClass\")\n"
      ]
    },
    {
      "cell_type": "code",
      "execution_count": null,
      "metadata": {
        "colab": {
          "background_save": true,
          "base_uri": "https://localhost:8080/"
        },
        "id": "ytJxyJSRLRdp",
        "outputId": "985d6124-8646-480e-c450-2ef13d5616ca"
      },
      "outputs": [
        {
          "name": "stdout",
          "output_type": "stream",
          "text": [
            "Columnas disponibles en el DataFrame:\n",
            "['atributo1', 'atributo2', 'atributo3', 'atributo4', 'Class']\n",
            "\n",
            "📊 DATA DE ENTRENAMIENTO (primeras filas):\n",
            "     atributo1  atributo2  atributo3  atributo4            Class\n",
            "88         5.5        2.5        4.0        1.3  Iris-versicolor\n",
            "25         5.0        3.4        1.6        0.4      Iris-setosa\n",
            "138        6.9        3.1        5.4        2.1   Iris-virginica\n",
            "29         4.8        3.1        1.6        0.2      Iris-setosa\n",
            "19         5.4        3.4        1.7        0.2      Iris-setosa\n",
            "\n",
            "✅ Valores Mínimos y Máximos por atributo (sin incluir la clase):\n",
            "atributo1: min=4.3, max=7.9\n",
            "atributo2: min=2.0, max=4.2\n",
            "atributo3: min=1.1, max=6.9\n",
            "atributo4: min=0.1, max=2.5\n",
            "Iteración inicial: CR = 0.8222, q_used = [1.0, 1.0, 1.0]\n",
            "TQ 1: Nuevo mejor CR = 0.8667, q_used = [1.3372320308851275, 0.0656444378654451, 12.129802239790191]\n",
            "\n",
            "--- Iteración 1 ---\n",
            "CR con q_best_used: 0.8889\n",
            "Iter 1: ¡Nueva mejor Población! CR = 0.8889\n",
            "\n",
            "--- Iteración 2 ---\n",
            "CR con q_best_used: 0.8667\n",
            "\n",
            "--- Iteración 3 ---\n",
            "CR con q_best_used: 0.8444\n",
            "\n",
            "--- Iteración 4 ---\n",
            "CR con q_best_used: 0.8889\n",
            "\n",
            "--- Iteración 5 ---\n",
            "CR con q_best_used: 0.9111\n",
            "Iter 5: ¡Nueva mejor Población! CR = 0.9111\n",
            "Iter 5 - TQ 11: Mejor CR = 0.9333, q_used = [1.0162671638542207, 0.36061654515903097, 1.4930859705643285]\n",
            "\n",
            "Mejor CR final: 0.9333\n",
            "Mejor q_used encontrado: [1.0162671638542207, 0.36061654515903097, 1.4930859705643285]\n"
          ]
        }
      ],
      "source": [
        "import ChoquetClass as cc\n",
        "import pandas as pd\n",
        "from ChoquetClass import classifier\n",
        "\n",
        "\n",
        "#cargamos nuestros datos y reescribimos los nombres de los atributos\n",
        "df=pd.read_csv(\"iris.dat\")\n",
        "df.columns = [\"atributo1\", \"atributo2\", \"atributo3\", \"atributo4\", \"Class\"]\n",
        "\n",
        "# divide el dataset en training(70%) y test (30%),\n",
        "# Nos devuelve los valores mínimos y máximos de cada atributo\n",
        "# Pide al usuario especificar la columna de la clase\n",
        "train_Data, test_Data, class_column, Values  = cc.analyse.preparacion(df)\n",
        "\n",
        "#crea automáticamente 3 conjuntos difusos para cada atributo con funciones triangulares\n",
        "#crea las variables linguisticas para cada conjunto difuso\n",
        "variables=cc.CrearVariablesLinguisticas.crear(Values)\n",
        "\n",
        "#generación de reglas fuzzy automáticas en base al algoritmo genético\n",
        "P_best, q_best, historial = cc.rules_generator.algoritmo_genetico(\n",
        "    train_data=train_Data,\n",
        "    test_data=test_Data,\n",
        "    col_clase=\"Class\",\n",
        "    variables=variables,\n",
        "    num_rules=20,\n",
        "    num_iter=5,\n",
        "    TQ=15)\n",
        "\n"
      ]
    },
    {
      "cell_type": "code",
      "execution_count": null,
      "metadata": {
        "colab": {
          "background_save": true
        },
        "id": "2lN8Qyb4NhMX",
        "outputId": "9b7ef882-3f27-42c3-bc8e-a19b95dcf668"
      },
      "outputs": [
        {
          "name": "stdout",
          "output_type": "stream",
          "text": [
            "Clase predicha: Iris-versicolor\n"
          ]
        }
      ],
      "source": [
        "clf = cc.classifier.Classifier(variables, P_best, train_Data, class_column, q_vector=q_best)\n",
        "\n",
        "# Un patrón de prueba (fila del dataset o diccionario)\n",
        "patron = test_Data.iloc[3]\n",
        "\n",
        "clase_predicha, resultado = clf.classify_Choquet(patron)\n",
        "print(\"Clase predicha:\", clase_predicha)"
      ]
    },
    {
      "cell_type": "code",
      "execution_count": null,
      "metadata": {
        "colab": {
          "background_save": true
        },
        "id": "lolx93mn7B9l",
        "outputId": "ffe189b4-d2bc-4549-a93b-e82ce591a8c7"
      },
      "outputs": [
        {
          "name": "stdout",
          "output_type": "stream",
          "text": [
            "atributo1                6.0\n",
            "atributo2                3.4\n",
            "atributo3                4.5\n",
            "atributo4                1.6\n",
            "Class        Iris-versicolor\n",
            "Name: 84, dtype: object\n"
          ]
        }
      ],
      "source": [
        "print(patron)"
      ]
    },
    {
      "cell_type": "code",
      "execution_count": null,
      "metadata": {
        "colab": {
          "background_save": true
        },
        "id": "xsqsmPunNFww",
        "outputId": "9a203eae-e6a8-4770-9b9b-b13171aa70a0"
      },
      "outputs": [
        {
          "name": "stdout",
          "output_type": "stream",
          "text": [
            "[{'Iris-virginica': np.float64(0.11956032702798094)}, {'Iris-versicolor': np.float64(-0.19704847870703304)}, {'Iris-setosa': 0.0}, {'Iris-virginica': np.float64(-0.28033245986078453)}, {'Iris-setosa': np.float64(-0.17241379310344826)}, {'Iris-virginica': 0.0}, {'Iris-virginica': np.float64(0.11956032702798094)}, {'Iris-versicolor': 0.0}, {'Iris-setosa': 0.0}, {'Iris-virginica': 0.0}, {'Iris-setosa': 0.0}, {'Iris-virginica': np.float64(0.11956032702798094)}, {'Iris-virginica': 0.0}, {'Iris-virginica': np.float64(0.06430120747127208)}, {'Iris-virginica': 0.0}, {'Iris-setosa': 0.0}, {'Iris-setosa': 0.0}, {'Iris-setosa': 0.0}, {'Iris-versicolor': np.float64(0.1606036865944474)}, {'Iris-setosa': 0.0}]\n"
          ]
        }
      ],
      "source": [
        "#funciones de pre-agregación\n",
        "\n",
        "\n",
        "#1 cópula tipo Choquet\n",
        "\n",
        "# Crear instancia (usa las variables lingüísticas que ya tengas definidas)\n",
        "asociacion_fuzzy = cc.rules_generator.Asociacion_fuzzy(variables)\n",
        "\n",
        "# Llamar correctamente al método 'calcular'\n",
        "asociation = asociacion_fuzzy.calcular(\n",
        "    reglas_f=P_best,\n",
        "    ejemplo=patron,\n",
        "    data=df,\n",
        "    col_clase='Class'\n",
        ")\n",
        "\n",
        "print(asociation)\n",
        "\n"
      ]
    },
    {
      "cell_type": "code",
      "execution_count": null,
      "metadata": {
        "colab": {
          "background_save": true
        },
        "id": "DKvffau5PHDm",
        "outputId": "d378c8ff-8084-46e8-bb1c-701ff645c7ac"
      },
      "outputs": [
        {
          "data": {
            "text/plain": [
              "<module 'ChoquetClass.algorithm_genetic' from '/content/ChoquetClass/algorithm_genetic.py'>"
            ]
          },
          "execution_count": 20,
          "metadata": {},
          "output_type": "execute_result"
        }
      ],
      "source": [
        "from importlib import reload\n",
        "reload(classifier)\n",
        "reload(cc.aggregation_functions)\n",
        "reload(cc.algorithm_genetic)\n"
      ]
    },
    {
      "cell_type": "code",
      "execution_count": null,
      "metadata": {
        "colab": {
          "background_save": true
        },
        "id": "jS86v1XkI7lj",
        "outputId": "055001f0-3690-4f21-e3ac-28f380c6a8b1"
      },
      "outputs": [
        {
          "name": "stdout",
          "output_type": "stream",
          "text": [
            "0.8666666666666667\n"
          ]
        }
      ],
      "source": [
        "#A partir de aquí probaremos el optimizador genético\n",
        "\n",
        "taza_clasificacion = cc.algorithm_genetic.CR_CC_choquet(\n",
        "    test_Data,\n",
        "    train_Data,\n",
        "    P_best,\n",
        "    variables,\n",
        "    col_clase=class_column,\n",
        "    q_vector=q_best\n",
        ")\n",
        "print(taza_clasificacion)\n",
        "\n",
        "\n"
      ]
    },
    {
      "cell_type": "code",
      "execution_count": null,
      "metadata": {
        "colab": {
          "background_save": true
        },
        "id": "d1AwhSvtJGt_",
        "outputId": "ad81151c-ca96-4e1b-e386-11ae303bce9a"
      },
      "outputs": [
        {
          "name": "stdout",
          "output_type": "stream",
          "text": [
            "Class\n"
          ]
        }
      ],
      "source": [
        "print(class_column)"
      ]
    },
    {
      "cell_type": "code",
      "execution_count": null,
      "metadata": {
        "colab": {
          "background_save": true
        },
        "id": "bnevRHGQUBOP",
        "outputId": "a784b727-1eb0-4f08-d3e2-06f7b0784815"
      },
      "outputs": [
        {
          "name": "stdout",
          "output_type": "stream",
          "text": [
            "Iteración 0: CR = 0.7556, q = [1, 1, 1]\n",
            "Iteración 10: Nuevo mejor CR = 0.9333, q = [0.8314712782269702, 0.3330644527551036, 0.38685119686569636]\n"
          ]
        },
        {
          "data": {
            "text/plain": [
              "([0.8314712782269702, 0.3330644527551036, 0.38685119686569636],\n",
              " 0.9333333333333333)"
            ]
          },
          "execution_count": 23,
          "metadata": {},
          "output_type": "execute_result"
        }
      ],
      "source": [
        "cc.algorithm_genetic.optimizar_q_CC_choquet(\n",
        "    test_data=test_Data,\n",
        "    train_data=train_Data,\n",
        "    reglas=P_best,\n",
        "    variables=variables,\n",
        "    col_clase=class_column,\n",
        "    q_inicial=[1,1,1],\n",
        "    num_iter=10\n",
        ")\n"
      ]
    },
    {
      "cell_type": "code",
      "execution_count": null,
      "metadata": {
        "colab": {
          "background_save": true
        },
        "id": "WlaFJ9ec5g36",
        "outputId": "b52aa7d6-c534-4d95-b9dd-3aeddcb5f68f"
      },
      "outputs": [
        {
          "data": {
            "text/plain": [
              "['BAJO', 'MEDIO', 'ALTO']"
            ]
          },
          "execution_count": 24,
          "metadata": {},
          "output_type": "execute_result"
        }
      ],
      "source": [
        "cc.rules_generator._terms_for_attr(variables, 'atributo1')"
      ]
    },
    {
      "cell_type": "code",
      "execution_count": null,
      "metadata": {
        "colab": {
          "background_save": true
        },
        "id": "1C29bYa63hGl",
        "outputId": "d711e069-66dc-4085-86a8-a8970fca1e9c"
      },
      "outputs": [
        {
          "data": {
            "text/plain": [
              "<ChoquetClass.rules_generator.SolidezChoquet at 0x7cb48bc7c110>"
            ]
          },
          "execution_count": 25,
          "metadata": {},
          "output_type": "execute_result"
        }
      ],
      "source": [
        "cc.rules_generator.SolidezChoquet(variables)"
      ]
    },
    {
      "cell_type": "code",
      "execution_count": null,
      "metadata": {
        "colab": {
          "background_save": true
        },
        "id": "rVqlrWKsslh2",
        "outputId": "439dc39e-d639-45ed-d0c1-1bf76fd5ba69"
      },
      "outputs": [
        {
          "name": "stdout",
          "output_type": "stream",
          "text": [
            "Iteración inicial: CR = 0.7778, q_used = [1.0, 1.0, 1.0]\n",
            "\n",
            "--- Iteración 1 ---\n",
            "CR con q_best_used: 0.8667\n",
            "Iter 1: ¡Nueva mejor población! CR = 0.8667\n",
            "\n",
            "--- Iteración 2 ---\n",
            "CR con q_best_used: 0.8000\n",
            "\n",
            "--- Iteración 3 ---\n",
            "CR con q_best_used: 0.8667\n",
            "\n",
            "Mejor CR final: 0.8667\n",
            "Mejor q_used encontrado: [1.0, 1.0, 1.0]\n"
          ]
        }
      ],
      "source": [
        "best_pob, q_best, historial=cc.algorithm_genetic.algoritmo_genetico_comb_aditive(\n",
        "    train_Data,\n",
        "    test_Data,\n",
        "    class_column,\n",
        "    variables,\n",
        "    num_rules=20,\n",
        "    num_iter=3,\n",
        "    TQ=3,\n",
        "    cross_prob=0.9\n",
        ")"
      ]
    },
    {
      "cell_type": "code",
      "execution_count": null,
      "metadata": {
        "colab": {
          "background_save": true
        },
        "id": "F080UpAlYxvY",
        "outputId": "0ddd71c3-7aae-40ae-e01b-58b32887a7f5"
      },
      "outputs": [
        {
          "name": "stdout",
          "output_type": "stream",
          "text": [
            "[(0, 0.7777777777777778, [1.0, 1.0, 1.0]), ('TQ', 0.7777777777777778, [1.0, 1.0, 1.0]), (1, 0.8666666666666667, [1.0, 1.0, 1.0]), (2, 0.8666666666666667, [1.0, 1.0, 1.0]), (3, 0.8666666666666667, [1.0, 1.0, 1.0])]\n"
          ]
        }
      ],
      "source": [
        "print(historial)"
      ]
    },
    {
      "cell_type": "code",
      "execution_count": 28,
      "metadata": {
        "id": "Gu0ZFPsIYzns",
        "colab": {
          "base_uri": "https://localhost:8080/"
        },
        "outputId": "06010a42-edaf-41ac-d039-7e10cdfa2ac3"
      },
      "outputs": [
        {
          "output_type": "stream",
          "name": "stdout",
          "text": [
            "Iteración 0: CR = 0.6222, q = [1.0, 1.0, 1.0]\n",
            "Iteración 2: Nuevo mejor CR = 0.6444, q = [0.5712712702345955, 0.8017269947539812, 0.43320120293012526]\n",
            "Optimización inicial completada: CR = 0.6444, q_used = [0.5712712702345955, 0.8017269947539812, 0.43320120293012526]\n",
            "\n",
            "--- Iteración 1 ---\n",
            "Iteración 0: CR = 0.8889, q = [0.5712712702345955, 0.8017269947539812, 0.43320120293012526]\n",
            "Iter 1: CR optimizado = 0.8889, q_used = [0.5712712702345955, 0.8017269947539812, 0.43320120293012526]\n",
            "✅ Iter 1: Nueva mejor población, CR = 0.8889\n",
            "\n",
            "--- Iteración 2 ---\n",
            "Iteración 0: CR = 0.8667, q = [0.5712712702345955, 0.8017269947539812, 0.43320120293012526]\n",
            "Iter 2: CR optimizado = 0.8667, q_used = [0.5712712702345955, 0.8017269947539812, 0.43320120293012526]\n",
            "\n",
            "--- Iteración 3 ---\n",
            "Iteración 0: CR = 0.8889, q = [0.5712712702345955, 0.8017269947539812, 0.43320120293012526]\n",
            "Iter 3: CR optimizado = 0.8889, q_used = [0.5712712702345955, 0.8017269947539812, 0.43320120293012526]\n",
            "\n",
            "🏁 Mejor CR final: 0.8889\n",
            "Mejor q_used encontrado: [0.5712712702345955, 0.8017269947539812, 0.43320120293012526]\n"
          ]
        }
      ],
      "source": [
        "best_pob, q_best, historial=cc.algorithm_genetic.algoritmo_genetico_CC_Choquet(\n",
        "    train_Data,\n",
        "    test_Data,\n",
        "    class_column,\n",
        "    variables,\n",
        "    num_rules=20,\n",
        "    num_iter=3,\n",
        "    TQ=3,\n",
        "    cross_prob=0.9\n",
        ")"
      ]
    },
    {
      "cell_type": "code",
      "source": [
        "clf = cc.classifier.Classifier(variables, best_pob, train_Data, class_column, q_vector=q_best)\n",
        "\n",
        "# Un patrón de prueba (fila del dataset o diccionario)\n",
        "patron = test_Data.iloc[3]\n",
        "\n",
        "clase_predicha, resultado = clf.classify_CC_Choquet(patron)\n",
        "print(\"Clase predicha:\", clase_predicha)"
      ],
      "metadata": {
        "colab": {
          "base_uri": "https://localhost:8080/"
        },
        "id": "zC4DCYgDPddw",
        "outputId": "01577e27-c339-48cb-a5f3-594dda19fe2a"
      },
      "execution_count": 29,
      "outputs": [
        {
          "output_type": "stream",
          "name": "stdout",
          "text": [
            "Clase predicha: Iris-versicolor\n"
          ]
        }
      ]
    }
  ],
  "metadata": {
    "colab": {
      "provenance": []
    },
    "kernelspec": {
      "display_name": "Python 3",
      "name": "python3"
    },
    "language_info": {
      "name": "python"
    }
  },
  "nbformat": 4,
  "nbformat_minor": 0
}